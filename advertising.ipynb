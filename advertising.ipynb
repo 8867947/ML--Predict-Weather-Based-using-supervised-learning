{
 "cells": [
  {
   "cell_type": "code",
   "execution_count": 22,
   "metadata": {},
   "outputs": [
    {
     "data": {
      "text/html": [
       "<div>\n",
       "<style scoped>\n",
       "    .dataframe tbody tr th:only-of-type {\n",
       "        vertical-align: middle;\n",
       "    }\n",
       "\n",
       "    .dataframe tbody tr th {\n",
       "        vertical-align: top;\n",
       "    }\n",
       "\n",
       "    .dataframe thead th {\n",
       "        text-align: right;\n",
       "    }\n",
       "</style>\n",
       "<table border=\"1\" class=\"dataframe\">\n",
       "  <thead>\n",
       "    <tr style=\"text-align: right;\">\n",
       "      <th></th>\n",
       "      <th>Daily Time Spent on Site</th>\n",
       "      <th>Age</th>\n",
       "      <th>Area Income</th>\n",
       "      <th>Daily Internet Usage</th>\n",
       "      <th>Ad Topic Line</th>\n",
       "      <th>City</th>\n",
       "      <th>Male</th>\n",
       "      <th>Country</th>\n",
       "      <th>Timestamp</th>\n",
       "      <th>Clicked on Ad</th>\n",
       "    </tr>\n",
       "  </thead>\n",
       "  <tbody>\n",
       "    <tr>\n",
       "      <th>0</th>\n",
       "      <td>68.95</td>\n",
       "      <td>35</td>\n",
       "      <td>61833.90</td>\n",
       "      <td>256.09</td>\n",
       "      <td>Cloned 5thgeneration orchestration</td>\n",
       "      <td>Wrightburgh</td>\n",
       "      <td>0</td>\n",
       "      <td>Tunisia</td>\n",
       "      <td>2016-03-27 00:53:11</td>\n",
       "      <td>0</td>\n",
       "    </tr>\n",
       "    <tr>\n",
       "      <th>1</th>\n",
       "      <td>80.23</td>\n",
       "      <td>31</td>\n",
       "      <td>68441.85</td>\n",
       "      <td>193.77</td>\n",
       "      <td>Monitored national standardization</td>\n",
       "      <td>West Jodi</td>\n",
       "      <td>1</td>\n",
       "      <td>Nauru</td>\n",
       "      <td>2016-04-04 01:39:02</td>\n",
       "      <td>0</td>\n",
       "    </tr>\n",
       "    <tr>\n",
       "      <th>2</th>\n",
       "      <td>69.47</td>\n",
       "      <td>26</td>\n",
       "      <td>59785.94</td>\n",
       "      <td>236.50</td>\n",
       "      <td>Organic bottom-line service-desk</td>\n",
       "      <td>Davidton</td>\n",
       "      <td>0</td>\n",
       "      <td>San Marino</td>\n",
       "      <td>2016-03-13 20:35:42</td>\n",
       "      <td>0</td>\n",
       "    </tr>\n",
       "    <tr>\n",
       "      <th>3</th>\n",
       "      <td>74.15</td>\n",
       "      <td>29</td>\n",
       "      <td>54806.18</td>\n",
       "      <td>245.89</td>\n",
       "      <td>Triple-buffered reciprocal time-frame</td>\n",
       "      <td>West Terrifurt</td>\n",
       "      <td>1</td>\n",
       "      <td>Italy</td>\n",
       "      <td>2016-01-10 02:31:19</td>\n",
       "      <td>0</td>\n",
       "    </tr>\n",
       "    <tr>\n",
       "      <th>4</th>\n",
       "      <td>68.37</td>\n",
       "      <td>35</td>\n",
       "      <td>73889.99</td>\n",
       "      <td>225.58</td>\n",
       "      <td>Robust logistical utilization</td>\n",
       "      <td>South Manuel</td>\n",
       "      <td>0</td>\n",
       "      <td>Iceland</td>\n",
       "      <td>2016-06-03 03:36:18</td>\n",
       "      <td>0</td>\n",
       "    </tr>\n",
       "    <tr>\n",
       "      <th>...</th>\n",
       "      <td>...</td>\n",
       "      <td>...</td>\n",
       "      <td>...</td>\n",
       "      <td>...</td>\n",
       "      <td>...</td>\n",
       "      <td>...</td>\n",
       "      <td>...</td>\n",
       "      <td>...</td>\n",
       "      <td>...</td>\n",
       "      <td>...</td>\n",
       "    </tr>\n",
       "    <tr>\n",
       "      <th>995</th>\n",
       "      <td>72.97</td>\n",
       "      <td>30</td>\n",
       "      <td>71384.57</td>\n",
       "      <td>208.58</td>\n",
       "      <td>Fundamental modular algorithm</td>\n",
       "      <td>Duffystad</td>\n",
       "      <td>1</td>\n",
       "      <td>Lebanon</td>\n",
       "      <td>2016-02-11 21:49:00</td>\n",
       "      <td>1</td>\n",
       "    </tr>\n",
       "    <tr>\n",
       "      <th>996</th>\n",
       "      <td>51.30</td>\n",
       "      <td>45</td>\n",
       "      <td>67782.17</td>\n",
       "      <td>134.42</td>\n",
       "      <td>Grass-roots cohesive monitoring</td>\n",
       "      <td>New Darlene</td>\n",
       "      <td>1</td>\n",
       "      <td>Bosnia and Herzegovina</td>\n",
       "      <td>2016-04-22 02:07:01</td>\n",
       "      <td>1</td>\n",
       "    </tr>\n",
       "    <tr>\n",
       "      <th>997</th>\n",
       "      <td>51.63</td>\n",
       "      <td>51</td>\n",
       "      <td>42415.72</td>\n",
       "      <td>120.37</td>\n",
       "      <td>Expanded intangible solution</td>\n",
       "      <td>South Jessica</td>\n",
       "      <td>1</td>\n",
       "      <td>Mongolia</td>\n",
       "      <td>2016-02-01 17:24:57</td>\n",
       "      <td>1</td>\n",
       "    </tr>\n",
       "    <tr>\n",
       "      <th>998</th>\n",
       "      <td>55.55</td>\n",
       "      <td>19</td>\n",
       "      <td>41920.79</td>\n",
       "      <td>187.95</td>\n",
       "      <td>Proactive bandwidth-monitored policy</td>\n",
       "      <td>West Steven</td>\n",
       "      <td>0</td>\n",
       "      <td>Guatemala</td>\n",
       "      <td>2016-03-24 02:35:54</td>\n",
       "      <td>0</td>\n",
       "    </tr>\n",
       "    <tr>\n",
       "      <th>999</th>\n",
       "      <td>45.01</td>\n",
       "      <td>26</td>\n",
       "      <td>29875.80</td>\n",
       "      <td>178.35</td>\n",
       "      <td>Virtual 5thgeneration emulation</td>\n",
       "      <td>Ronniemouth</td>\n",
       "      <td>0</td>\n",
       "      <td>Brazil</td>\n",
       "      <td>2016-06-03 21:43:21</td>\n",
       "      <td>1</td>\n",
       "    </tr>\n",
       "  </tbody>\n",
       "</table>\n",
       "<p>1000 rows × 10 columns</p>\n",
       "</div>"
      ],
      "text/plain": [
       "     Daily Time Spent on Site  Age  Area Income  Daily Internet Usage  \\\n",
       "0                       68.95   35     61833.90                256.09   \n",
       "1                       80.23   31     68441.85                193.77   \n",
       "2                       69.47   26     59785.94                236.50   \n",
       "3                       74.15   29     54806.18                245.89   \n",
       "4                       68.37   35     73889.99                225.58   \n",
       "..                        ...  ...          ...                   ...   \n",
       "995                     72.97   30     71384.57                208.58   \n",
       "996                     51.30   45     67782.17                134.42   \n",
       "997                     51.63   51     42415.72                120.37   \n",
       "998                     55.55   19     41920.79                187.95   \n",
       "999                     45.01   26     29875.80                178.35   \n",
       "\n",
       "                             Ad Topic Line            City  Male  \\\n",
       "0       Cloned 5thgeneration orchestration     Wrightburgh     0   \n",
       "1       Monitored national standardization       West Jodi     1   \n",
       "2         Organic bottom-line service-desk        Davidton     0   \n",
       "3    Triple-buffered reciprocal time-frame  West Terrifurt     1   \n",
       "4            Robust logistical utilization    South Manuel     0   \n",
       "..                                     ...             ...   ...   \n",
       "995          Fundamental modular algorithm       Duffystad     1   \n",
       "996        Grass-roots cohesive monitoring     New Darlene     1   \n",
       "997           Expanded intangible solution   South Jessica     1   \n",
       "998   Proactive bandwidth-monitored policy     West Steven     0   \n",
       "999        Virtual 5thgeneration emulation     Ronniemouth     0   \n",
       "\n",
       "                    Country            Timestamp  Clicked on Ad  \n",
       "0                   Tunisia  2016-03-27 00:53:11              0  \n",
       "1                     Nauru  2016-04-04 01:39:02              0  \n",
       "2                San Marino  2016-03-13 20:35:42              0  \n",
       "3                     Italy  2016-01-10 02:31:19              0  \n",
       "4                   Iceland  2016-06-03 03:36:18              0  \n",
       "..                      ...                  ...            ...  \n",
       "995                 Lebanon  2016-02-11 21:49:00              1  \n",
       "996  Bosnia and Herzegovina  2016-04-22 02:07:01              1  \n",
       "997                Mongolia  2016-02-01 17:24:57              1  \n",
       "998               Guatemala  2016-03-24 02:35:54              0  \n",
       "999                  Brazil  2016-06-03 21:43:21              1  \n",
       "\n",
       "[1000 rows x 10 columns]"
      ]
     },
     "execution_count": 22,
     "metadata": {},
     "output_type": "execute_result"
    }
   ],
   "source": [
    "import pandas as pd\n",
    "import numpy as np\n",
    "import matplotlib.pyplot as plt\n",
    "import seaborn as sns\n",
    "data = pd.read_csv(\"advertising.csv\")\n",
    "data"
   ]
  },
  {
   "cell_type": "code",
   "execution_count": 23,
   "metadata": {},
   "outputs": [
    {
     "data": {
      "text/html": [
       "<div>\n",
       "<style scoped>\n",
       "    .dataframe tbody tr th:only-of-type {\n",
       "        vertical-align: middle;\n",
       "    }\n",
       "\n",
       "    .dataframe tbody tr th {\n",
       "        vertical-align: top;\n",
       "    }\n",
       "\n",
       "    .dataframe thead th {\n",
       "        text-align: right;\n",
       "    }\n",
       "</style>\n",
       "<table border=\"1\" class=\"dataframe\">\n",
       "  <thead>\n",
       "    <tr style=\"text-align: right;\">\n",
       "      <th></th>\n",
       "      <th>Daily Time Spent on Site</th>\n",
       "      <th>Age</th>\n",
       "      <th>Area Income</th>\n",
       "      <th>Daily Internet Usage</th>\n",
       "      <th>Male</th>\n",
       "      <th>Clicked on Ad</th>\n",
       "    </tr>\n",
       "  </thead>\n",
       "  <tbody>\n",
       "    <tr>\n",
       "      <th>count</th>\n",
       "      <td>1000.000000</td>\n",
       "      <td>1000.000000</td>\n",
       "      <td>1000.000000</td>\n",
       "      <td>1000.000000</td>\n",
       "      <td>1000.000000</td>\n",
       "      <td>1000.00000</td>\n",
       "    </tr>\n",
       "    <tr>\n",
       "      <th>mean</th>\n",
       "      <td>65.000200</td>\n",
       "      <td>36.009000</td>\n",
       "      <td>55000.000080</td>\n",
       "      <td>180.000100</td>\n",
       "      <td>0.481000</td>\n",
       "      <td>0.50000</td>\n",
       "    </tr>\n",
       "    <tr>\n",
       "      <th>std</th>\n",
       "      <td>15.853615</td>\n",
       "      <td>8.785562</td>\n",
       "      <td>13414.634022</td>\n",
       "      <td>43.902339</td>\n",
       "      <td>0.499889</td>\n",
       "      <td>0.50025</td>\n",
       "    </tr>\n",
       "    <tr>\n",
       "      <th>min</th>\n",
       "      <td>32.600000</td>\n",
       "      <td>19.000000</td>\n",
       "      <td>13996.500000</td>\n",
       "      <td>104.780000</td>\n",
       "      <td>0.000000</td>\n",
       "      <td>0.00000</td>\n",
       "    </tr>\n",
       "    <tr>\n",
       "      <th>25%</th>\n",
       "      <td>51.360000</td>\n",
       "      <td>29.000000</td>\n",
       "      <td>47031.802500</td>\n",
       "      <td>138.830000</td>\n",
       "      <td>0.000000</td>\n",
       "      <td>0.00000</td>\n",
       "    </tr>\n",
       "    <tr>\n",
       "      <th>50%</th>\n",
       "      <td>68.215000</td>\n",
       "      <td>35.000000</td>\n",
       "      <td>57012.300000</td>\n",
       "      <td>183.130000</td>\n",
       "      <td>0.000000</td>\n",
       "      <td>0.50000</td>\n",
       "    </tr>\n",
       "    <tr>\n",
       "      <th>75%</th>\n",
       "      <td>78.547500</td>\n",
       "      <td>42.000000</td>\n",
       "      <td>65470.635000</td>\n",
       "      <td>218.792500</td>\n",
       "      <td>1.000000</td>\n",
       "      <td>1.00000</td>\n",
       "    </tr>\n",
       "    <tr>\n",
       "      <th>max</th>\n",
       "      <td>91.430000</td>\n",
       "      <td>61.000000</td>\n",
       "      <td>79484.800000</td>\n",
       "      <td>269.960000</td>\n",
       "      <td>1.000000</td>\n",
       "      <td>1.00000</td>\n",
       "    </tr>\n",
       "  </tbody>\n",
       "</table>\n",
       "</div>"
      ],
      "text/plain": [
       "       Daily Time Spent on Site          Age   Area Income  \\\n",
       "count               1000.000000  1000.000000   1000.000000   \n",
       "mean                  65.000200    36.009000  55000.000080   \n",
       "std                   15.853615     8.785562  13414.634022   \n",
       "min                   32.600000    19.000000  13996.500000   \n",
       "25%                   51.360000    29.000000  47031.802500   \n",
       "50%                   68.215000    35.000000  57012.300000   \n",
       "75%                   78.547500    42.000000  65470.635000   \n",
       "max                   91.430000    61.000000  79484.800000   \n",
       "\n",
       "       Daily Internet Usage         Male  Clicked on Ad  \n",
       "count           1000.000000  1000.000000     1000.00000  \n",
       "mean             180.000100     0.481000        0.50000  \n",
       "std               43.902339     0.499889        0.50025  \n",
       "min              104.780000     0.000000        0.00000  \n",
       "25%              138.830000     0.000000        0.00000  \n",
       "50%              183.130000     0.000000        0.50000  \n",
       "75%              218.792500     1.000000        1.00000  \n",
       "max              269.960000     1.000000        1.00000  "
      ]
     },
     "execution_count": 23,
     "metadata": {},
     "output_type": "execute_result"
    }
   ],
   "source": [
    "data.describe()"
   ]
  },
  {
   "cell_type": "code",
   "execution_count": 24,
   "metadata": {},
   "outputs": [
    {
     "data": {
      "text/plain": [
       "(1000, 10)"
      ]
     },
     "execution_count": 24,
     "metadata": {},
     "output_type": "execute_result"
    }
   ],
   "source": [
    "data.shape"
   ]
  },
  {
   "cell_type": "code",
   "execution_count": 25,
   "metadata": {},
   "outputs": [
    {
     "data": {
      "text/plain": [
       "<AxesSubplot:xlabel='Clicked on Ad', ylabel='count'>"
      ]
     },
     "execution_count": 25,
     "metadata": {},
     "output_type": "execute_result"
    },
    {
     "data": {
      "image/png": "[encoded data removed]",
      "text/plain": [
       "<Figure size 432x288 with 1 Axes>"
      ]
     },
     "metadata": {
      "needs_background": "light"
     },
     "output_type": "display_data"
    }
   ],
   "source": [
    "sns.countplot(x=\"Clicked on Ad\",data=data)"
   ]
  },
  {
   "cell_type": "markdown",
   "metadata": {},
   "source": [
    "# Remove/replace missing values"
   ]
  },
  {
   "cell_type": "code",
   "execution_count": 26,
   "metadata": {},
   "outputs": [
    {
     "data": {
      "text/plain": [
       "Daily Time Spent on Site    False\n",
       "Age                         False\n",
       "Area Income                 False\n",
       "Daily Internet Usage        False\n",
       "Ad Topic Line               False\n",
       "City                        False\n",
       "Male                        False\n",
       "Country                     False\n",
       "Timestamp                   False\n",
       "Clicked on Ad               False\n",
       "dtype: bool"
      ]
     },
     "execution_count": 26,
     "metadata": {},
     "output_type": "execute_result"
    }
   ],
   "source": [
    "data.isnull().sum()>0"
   ]
  },
  {
   "cell_type": "raw",
   "metadata": {},
   "source": [
    "There are no missing values"
   ]
  },
  {
   "cell_type": "markdown",
   "metadata": {},
   "source": [
    "# Encoding categorical data"
   ]
  },
  {
   "cell_type": "code",
   "execution_count": 27,
   "metadata": {},
   "outputs": [
    {
     "data": {
      "text/html": [
       "<div>\n",
       "<style scoped>\n",
       "    .dataframe tbody tr th:only-of-type {\n",
       "        vertical-align: middle;\n",
       "    }\n",
       "\n",
       "    .dataframe tbody tr th {\n",
       "        vertical-align: top;\n",
       "    }\n",
       "\n",
       "    .dataframe thead th {\n",
       "        text-align: right;\n",
       "    }\n",
       "</style>\n",
       "<table border=\"1\" class=\"dataframe\">\n",
       "  <thead>\n",
       "    <tr style=\"text-align: right;\">\n",
       "      <th></th>\n",
       "      <th>Ad Topic Line</th>\n",
       "      <th>City</th>\n",
       "      <th>Country</th>\n",
       "      <th>Timestamp</th>\n",
       "    </tr>\n",
       "  </thead>\n",
       "  <tbody>\n",
       "    <tr>\n",
       "      <th>count</th>\n",
       "      <td>1000</td>\n",
       "      <td>1000</td>\n",
       "      <td>1000</td>\n",
       "      <td>1000</td>\n",
       "    </tr>\n",
       "    <tr>\n",
       "      <th>unique</th>\n",
       "      <td>1000</td>\n",
       "      <td>969</td>\n",
       "      <td>237</td>\n",
       "      <td>1000</td>\n",
       "    </tr>\n",
       "    <tr>\n",
       "      <th>top</th>\n",
       "      <td>Vision-oriented multi-tasking success</td>\n",
       "      <td>Lisamouth</td>\n",
       "      <td>Czech Republic</td>\n",
       "      <td>2016-01-28 17:03:54</td>\n",
       "    </tr>\n",
       "    <tr>\n",
       "      <th>freq</th>\n",
       "      <td>1</td>\n",
       "      <td>3</td>\n",
       "      <td>9</td>\n",
       "      <td>1</td>\n",
       "    </tr>\n",
       "  </tbody>\n",
       "</table>\n",
       "</div>"
      ],
      "text/plain": [
       "                                Ad Topic Line       City         Country  \\\n",
       "count                                    1000       1000            1000   \n",
       "unique                                   1000        969             237   \n",
       "top     Vision-oriented multi-tasking success  Lisamouth  Czech Republic   \n",
       "freq                                        1          3               9   \n",
       "\n",
       "                  Timestamp  \n",
       "count                  1000  \n",
       "unique                 1000  \n",
       "top     2016-01-28 17:03:54  \n",
       "freq                      1  "
      ]
     },
     "execution_count": 27,
     "metadata": {},
     "output_type": "execute_result"
    }
   ],
   "source": [
    "variables = ['Ad Topic Line', 'City', 'Country','Timestamp']\n",
    "data[variables].describe()"
   ]
  },
  {
   "cell_type": "markdown",
   "metadata": {},
   "source": [
    "As we can see from the table above that all the values in column \"Ad Topic Line\" and \"Timestamp\" are unique, while the \"City\" column contains 969 unique values out of 1000. There are too many unique elements within these two categorical columns and it is generally difficult to perform a prediction without the existence of a data pattern. \n",
    "Because of that, they will be omitted from further analysis. The third categorical variable, \"Country\", has a unique element (France) that repeats 9 times. Additionally, we can determine countries with the highest number of visitors"
   ]
  },
  {
   "cell_type": "code",
   "execution_count": 28,
   "metadata": {},
   "outputs": [],
   "source": [
    "data = data.drop(['Ad Topic Line', 'City', 'Country','Timestamp'], axis=1)"
   ]
  },
  {
   "cell_type": "code",
   "execution_count": 29,
   "metadata": {},
   "outputs": [],
   "source": [
    "X= data.drop(['Clicked on Ad'], axis=1)\n",
    "y = data['Clicked on Ad']\n",
    "from sklearn.preprocessing import StandardScaler\n",
    "sc = StandardScaler()\n",
    "X = sc.fit_transform(X)"
   ]
  },
  {
   "cell_type": "code",
   "execution_count": 30,
   "metadata": {},
   "outputs": [],
   "source": [
    "from sklearn.model_selection import train_test_split\n",
    "X_train , X_test, y_train, y_test = train_test_split(X,y, test_size= 0.3, random_state = 0)"
   ]
  },
  {
   "cell_type": "code",
   "execution_count": 31,
   "metadata": {},
   "outputs": [],
   "source": [
    "import keras \n",
    "from keras.models import Sequential\n",
    "from keras.layers import Dense, Dropout"
   ]
  },
  {
   "cell_type": "code",
   "execution_count": 32,
   "metadata": {},
   "outputs": [],
   "source": [
    "#adding the input and first hidden layer\n",
    "classifier = Sequential()\n",
    "\n",
    "classifier.add(Dense(5, activation='relu',  kernel_initializer='glorot_uniform', input_dim=5))  \n",
    "classifier.add(Dropout(0.2))\n",
    "\n",
    "#classifier.add(Dense(output_dim=6, init='uniform', activation='rule',input_dim=10))  # output_dim = 9+1/2=5\n",
    "#adding the second hidden layer\n",
    "classifier.add(Dense(3, activation='relu', kernel_initializer='glorot_uniform'))\n",
    "classifier.add(Dropout(0.2))\n",
    "\n",
    "#adding the output layer\n",
    "classifier.add(Dense(1, activation='sigmoid',  kernel_initializer='glorot_uniform'))"
   ]
  },
  {
   "cell_type": "code",
   "execution_count": 33,
   "metadata": {},
   "outputs": [],
   "source": [
    "# output is in the form of binary(0 and 1), that's why we are using binary_crossentropy\n",
    "classifier.compile(optimizer=\"Adam\", loss='binary_crossentropy',metrics=['accuracy'])\n",
    "\n",
    "\n"
   ]
  },
  {
   "cell_type": "code",
   "execution_count": 34,
   "metadata": {},
   "outputs": [
    {
     "name": "stdout",
     "output_type": "stream",
     "text": [
      "Epoch 1/100\n",
      "11/11 [==============================] - 1s 25ms/step - loss: 0.9388 - accuracy: 0.3939 - val_loss: 0.9248 - val_accuracy: 0.3700\n",
      "Epoch 2/100\n",
      "11/11 [==============================] - 0s 10ms/step - loss: 0.8796 - accuracy: 0.4081 - val_loss: 0.8724 - val_accuracy: 0.3700\n",
      "Epoch 3/100\n",
      "11/11 [==============================] - 0s 13ms/step - loss: 0.8393 - accuracy: 0.4389 - val_loss: 0.8281 - val_accuracy: 0.3700\n",
      "Epoch 4/100\n",
      "11/11 [==============================] - 0s 10ms/step - loss: 0.8025 - accuracy: 0.4456 - val_loss: 0.7912 - val_accuracy: 0.3833\n",
      "Epoch 5/100\n",
      "11/11 [==============================] - 0s 7ms/step - loss: 0.7597 - accuracy: 0.4660 - val_loss: 0.7618 - val_accuracy: 0.4033\n",
      "Epoch 6/100\n",
      "11/11 [==============================] - 0s 12ms/step - loss: 0.7418 - accuracy: 0.4493 - val_loss: 0.7369 - val_accuracy: 0.4300\n",
      "Epoch 7/100\n",
      "11/11 [==============================] - 0s 13ms/step - loss: 0.7213 - accuracy: 0.4776 - val_loss: 0.7170 - val_accuracy: 0.4467\n",
      "Epoch 8/100\n",
      "11/11 [==============================] - 0s 14ms/step - loss: 0.7068 - accuracy: 0.4744 - val_loss: 0.6995 - val_accuracy: 0.4900\n",
      "Epoch 9/100\n",
      "11/11 [==============================] - 0s 25ms/step - loss: 0.6967 - accuracy: 0.5074 - val_loss: 0.6849 - val_accuracy: 0.5333\n",
      "Epoch 10/100\n",
      "11/11 [==============================] - 0s 9ms/step - loss: 0.6661 - accuracy: 0.5669 - val_loss: 0.6721 - val_accuracy: 0.5800\n",
      "Epoch 11/100\n",
      "11/11 [==============================] - 0s 8ms/step - loss: 0.6550 - accuracy: 0.6036 - val_loss: 0.6608 - val_accuracy: 0.6067\n",
      "Epoch 12/100\n",
      "11/11 [==============================] - 0s 9ms/step - loss: 0.6479 - accuracy: 0.6163 - val_loss: 0.6502 - val_accuracy: 0.6467\n",
      "Epoch 13/100\n",
      "11/11 [==============================] - 0s 10ms/step - loss: 0.6314 - accuracy: 0.6357 - val_loss: 0.6392 - val_accuracy: 0.6933\n",
      "Epoch 14/100\n",
      "11/11 [==============================] - 0s 10ms/step - loss: 0.6254 - accuracy: 0.6696 - val_loss: 0.6275 - val_accuracy: 0.7167\n",
      "Epoch 15/100\n",
      "11/11 [==============================] - 0s 9ms/step - loss: 0.6102 - accuracy: 0.6892 - val_loss: 0.6161 - val_accuracy: 0.7400\n",
      "Epoch 16/100\n",
      "11/11 [==============================] - 0s 9ms/step - loss: 0.5915 - accuracy: 0.7410 - val_loss: 0.6049 - val_accuracy: 0.7767\n",
      "Epoch 17/100\n",
      "11/11 [==============================] - 0s 9ms/step - loss: 0.5936 - accuracy: 0.6949 - val_loss: 0.5936 - val_accuracy: 0.7967\n",
      "Epoch 18/100\n",
      "11/11 [==============================] - 0s 8ms/step - loss: 0.5735 - accuracy: 0.7606 - val_loss: 0.5824 - val_accuracy: 0.8067\n",
      "Epoch 19/100\n",
      "11/11 [==============================] - 0s 9ms/step - loss: 0.5718 - accuracy: 0.7511 - val_loss: 0.5706 - val_accuracy: 0.8167\n",
      "Epoch 20/100\n",
      "11/11 [==============================] - 0s 10ms/step - loss: 0.5833 - accuracy: 0.7255 - val_loss: 0.5589 - val_accuracy: 0.8267\n",
      "Epoch 21/100\n",
      "11/11 [==============================] - 0s 9ms/step - loss: 0.5521 - accuracy: 0.7667 - val_loss: 0.5476 - val_accuracy: 0.8433\n",
      "Epoch 22/100\n",
      "11/11 [==============================] - 0s 12ms/step - loss: 0.5446 - accuracy: 0.7807 - val_loss: 0.5361 - val_accuracy: 0.8633\n",
      "Epoch 23/100\n",
      "11/11 [==============================] - 0s 13ms/step - loss: 0.5375 - accuracy: 0.7721 - val_loss: 0.5254 - val_accuracy: 0.8633\n",
      "Epoch 24/100\n",
      "11/11 [==============================] - 0s 14ms/step - loss: 0.5092 - accuracy: 0.7904 - val_loss: 0.5145 - val_accuracy: 0.8633\n",
      "Epoch 25/100\n",
      "11/11 [==============================] - 0s 15ms/step - loss: 0.5234 - accuracy: 0.7840 - val_loss: 0.5036 - val_accuracy: 0.8667\n",
      "Epoch 26/100\n",
      "11/11 [==============================] - 0s 14ms/step - loss: 0.4987 - accuracy: 0.8161 - val_loss: 0.4925 - val_accuracy: 0.8767\n",
      "Epoch 27/100\n",
      "11/11 [==============================] - 0s 11ms/step - loss: 0.4891 - accuracy: 0.8296 - val_loss: 0.4815 - val_accuracy: 0.8800\n",
      "Epoch 28/100\n",
      "11/11 [==============================] - 0s 10ms/step - loss: 0.4806 - accuracy: 0.8096 - val_loss: 0.4702 - val_accuracy: 0.8933\n",
      "Epoch 29/100\n",
      "11/11 [==============================] - 0s 9ms/step - loss: 0.4799 - accuracy: 0.8213 - val_loss: 0.4584 - val_accuracy: 0.8967\n",
      "Epoch 30/100\n",
      "11/11 [==============================] - 0s 10ms/step - loss: 0.4620 - accuracy: 0.8271 - val_loss: 0.4463 - val_accuracy: 0.9067\n",
      "Epoch 31/100\n",
      "11/11 [==============================] - 0s 10ms/step - loss: 0.4415 - accuracy: 0.8460 - val_loss: 0.4338 - val_accuracy: 0.9100\n",
      "Epoch 32/100\n",
      "11/11 [==============================] - 0s 9ms/step - loss: 0.4312 - accuracy: 0.8642 - val_loss: 0.4216 - val_accuracy: 0.9200\n",
      "Epoch 33/100\n",
      "11/11 [==============================] - 0s 10ms/step - loss: 0.4243 - accuracy: 0.8467 - val_loss: 0.4093 - val_accuracy: 0.9267\n",
      "Epoch 34/100\n",
      "11/11 [==============================] - 0s 9ms/step - loss: 0.4310 - accuracy: 0.8383 - val_loss: 0.3968 - val_accuracy: 0.9267\n",
      "Epoch 35/100\n",
      "11/11 [==============================] - 0s 9ms/step - loss: 0.4133 - accuracy: 0.8594 - val_loss: 0.3848 - val_accuracy: 0.9267\n",
      "Epoch 36/100\n",
      "11/11 [==============================] - 0s 8ms/step - loss: 0.4198 - accuracy: 0.8322 - val_loss: 0.3726 - val_accuracy: 0.9333\n",
      "Epoch 37/100\n",
      "11/11 [==============================] - 0s 8ms/step - loss: 0.4096 - accuracy: 0.8354 - val_loss: 0.3612 - val_accuracy: 0.9367\n",
      "Epoch 38/100\n",
      "11/11 [==============================] - 0s 8ms/step - loss: 0.3740 - accuracy: 0.8721 - val_loss: 0.3501 - val_accuracy: 0.9367\n",
      "Epoch 39/100\n",
      "11/11 [==============================] - 0s 7ms/step - loss: 0.4020 - accuracy: 0.8432 - val_loss: 0.3394 - val_accuracy: 0.9367\n",
      "Epoch 40/100\n",
      "11/11 [==============================] - 0s 7ms/step - loss: 0.3781 - accuracy: 0.8755 - val_loss: 0.3287 - val_accuracy: 0.9367\n",
      "Epoch 41/100\n",
      "11/11 [==============================] - 0s 7ms/step - loss: 0.3757 - accuracy: 0.8683 - val_loss: 0.3187 - val_accuracy: 0.9400\n",
      "Epoch 42/100\n",
      "11/11 [==============================] - 0s 16ms/step - loss: 0.3477 - accuracy: 0.8898 - val_loss: 0.3092 - val_accuracy: 0.9433\n",
      "Epoch 43/100\n",
      "11/11 [==============================] - 0s 9ms/step - loss: 0.3568 - accuracy: 0.8634 - val_loss: 0.3001 - val_accuracy: 0.9467\n",
      "Epoch 44/100\n",
      "11/11 [==============================] - 0s 7ms/step - loss: 0.3712 - accuracy: 0.8594 - val_loss: 0.2913 - val_accuracy: 0.9467\n",
      "Epoch 45/100\n",
      "11/11 [==============================] - 0s 8ms/step - loss: 0.3193 - accuracy: 0.9095 - val_loss: 0.2823 - val_accuracy: 0.9467\n",
      "Epoch 46/100\n",
      "11/11 [==============================] - 0s 8ms/step - loss: 0.3467 - accuracy: 0.8752 - val_loss: 0.2742 - val_accuracy: 0.9500\n",
      "Epoch 47/100\n",
      "11/11 [==============================] - 0s 8ms/step - loss: 0.3451 - accuracy: 0.8648 - val_loss: 0.2665 - val_accuracy: 0.9567\n",
      "Epoch 48/100\n",
      "11/11 [==============================] - 0s 8ms/step - loss: 0.3491 - accuracy: 0.8479 - val_loss: 0.2592 - val_accuracy: 0.9567\n",
      "Epoch 49/100\n",
      "11/11 [==============================] - 0s 8ms/step - loss: 0.3101 - accuracy: 0.9036 - val_loss: 0.2516 - val_accuracy: 0.9567\n",
      "Epoch 50/100\n",
      "11/11 [==============================] - 0s 8ms/step - loss: 0.2988 - accuracy: 0.8986 - val_loss: 0.2445 - val_accuracy: 0.9567\n",
      "Epoch 51/100\n",
      "11/11 [==============================] - 0s 8ms/step - loss: 0.3136 - accuracy: 0.8898 - val_loss: 0.2379 - val_accuracy: 0.9567\n",
      "Epoch 52/100\n",
      "11/11 [==============================] - 0s 8ms/step - loss: 0.2934 - accuracy: 0.8978 - val_loss: 0.2321 - val_accuracy: 0.9600\n",
      "Epoch 53/100\n",
      "11/11 [==============================] - 0s 8ms/step - loss: 0.2987 - accuracy: 0.8821 - val_loss: 0.2267 - val_accuracy: 0.9600\n",
      "Epoch 54/100\n",
      "11/11 [==============================] - 0s 8ms/step - loss: 0.3091 - accuracy: 0.8754 - val_loss: 0.2214 - val_accuracy: 0.9600\n",
      "Epoch 55/100\n",
      "11/11 [==============================] - 0s 8ms/step - loss: 0.2562 - accuracy: 0.9238 - val_loss: 0.2163 - val_accuracy: 0.9600\n",
      "Epoch 56/100\n",
      "11/11 [==============================] - 0s 7ms/step - loss: 0.3000 - accuracy: 0.8978 - val_loss: 0.2118 - val_accuracy: 0.9600\n",
      "Epoch 57/100\n",
      "11/11 [==============================] - 0s 9ms/step - loss: 0.2887 - accuracy: 0.8934 - val_loss: 0.2074 - val_accuracy: 0.9600\n",
      "Epoch 58/100\n",
      "11/11 [==============================] - 0s 8ms/step - loss: 0.2544 - accuracy: 0.9128 - val_loss: 0.2029 - val_accuracy: 0.9600\n",
      "Epoch 59/100\n",
      "11/11 [==============================] - 0s 7ms/step - loss: 0.2691 - accuracy: 0.9124 - val_loss: 0.1985 - val_accuracy: 0.9633\n",
      "Epoch 60/100\n",
      "11/11 [==============================] - 0s 8ms/step - loss: 0.2674 - accuracy: 0.9055 - val_loss: 0.1945 - val_accuracy: 0.9633\n",
      "Epoch 61/100\n",
      "11/11 [==============================] - 0s 8ms/step - loss: 0.2956 - accuracy: 0.8752 - val_loss: 0.1908 - val_accuracy: 0.9633\n",
      "Epoch 62/100\n",
      "11/11 [==============================] - 0s 7ms/step - loss: 0.2550 - accuracy: 0.9019 - val_loss: 0.1872 - val_accuracy: 0.9633\n",
      "Epoch 63/100\n",
      "11/11 [==============================] - 0s 7ms/step - loss: 0.2619 - accuracy: 0.8994 - val_loss: 0.1842 - val_accuracy: 0.9667\n",
      "Epoch 64/100\n",
      "11/11 [==============================] - 0s 7ms/step - loss: 0.2414 - accuracy: 0.9330 - val_loss: 0.1808 - val_accuracy: 0.9667\n",
      "Epoch 65/100\n",
      "11/11 [==============================] - 0s 7ms/step - loss: 0.2822 - accuracy: 0.8801 - val_loss: 0.1776 - val_accuracy: 0.9667\n",
      "Epoch 66/100\n",
      "11/11 [==============================] - 0s 8ms/step - loss: 0.2479 - accuracy: 0.9028 - val_loss: 0.1747 - val_accuracy: 0.9667\n",
      "Epoch 67/100\n",
      "11/11 [==============================] - 0s 7ms/step - loss: 0.2367 - accuracy: 0.9213 - val_loss: 0.1719 - val_accuracy: 0.9667\n",
      "Epoch 68/100\n",
      "11/11 [==============================] - 0s 7ms/step - loss: 0.2839 - accuracy: 0.8774 - val_loss: 0.1692 - val_accuracy: 0.9667\n",
      "Epoch 69/100\n",
      "11/11 [==============================] - 0s 7ms/step - loss: 0.2551 - accuracy: 0.9021 - val_loss: 0.1672 - val_accuracy: 0.9667\n",
      "Epoch 70/100\n",
      "11/11 [==============================] - 0s 8ms/step - loss: 0.2388 - accuracy: 0.9015 - val_loss: 0.1649 - val_accuracy: 0.9667\n",
      "Epoch 71/100\n",
      "11/11 [==============================] - 0s 8ms/step - loss: 0.2772 - accuracy: 0.8857 - val_loss: 0.1631 - val_accuracy: 0.9667\n",
      "Epoch 72/100\n",
      "11/11 [==============================] - 0s 7ms/step - loss: 0.2723 - accuracy: 0.8930 - val_loss: 0.1614 - val_accuracy: 0.9667\n",
      "Epoch 73/100\n",
      "11/11 [==============================] - 0s 7ms/step - loss: 0.2555 - accuracy: 0.8917 - val_loss: 0.1594 - val_accuracy: 0.9667\n",
      "Epoch 74/100\n",
      "11/11 [==============================] - 0s 8ms/step - loss: 0.2078 - accuracy: 0.9383 - val_loss: 0.1576 - val_accuracy: 0.9667\n",
      "Epoch 75/100\n",
      "11/11 [==============================] - 0s 8ms/step - loss: 0.2284 - accuracy: 0.9145 - val_loss: 0.1563 - val_accuracy: 0.9667\n",
      "Epoch 76/100\n",
      "11/11 [==============================] - 0s 8ms/step - loss: 0.2621 - accuracy: 0.8869 - val_loss: 0.1546 - val_accuracy: 0.9667\n",
      "Epoch 77/100\n",
      "11/11 [==============================] - 0s 7ms/step - loss: 0.2222 - accuracy: 0.9256 - val_loss: 0.1527 - val_accuracy: 0.9667\n",
      "Epoch 78/100\n",
      "11/11 [==============================] - 0s 7ms/step - loss: 0.2129 - accuracy: 0.9121 - val_loss: 0.1509 - val_accuracy: 0.9667\n",
      "Epoch 79/100\n",
      "11/11 [==============================] - 0s 7ms/step - loss: 0.2327 - accuracy: 0.9051 - val_loss: 0.1493 - val_accuracy: 0.9667\n",
      "Epoch 80/100\n",
      "11/11 [==============================] - 0s 8ms/step - loss: 0.2020 - accuracy: 0.9276 - val_loss: 0.1477 - val_accuracy: 0.9667\n",
      "Epoch 81/100\n",
      "11/11 [==============================] - 0s 16ms/step - loss: 0.2311 - accuracy: 0.9200 - val_loss: 0.1463 - val_accuracy: 0.9700\n",
      "Epoch 82/100\n",
      "11/11 [==============================] - 0s 7ms/step - loss: 0.2109 - accuracy: 0.9182 - val_loss: 0.1451 - val_accuracy: 0.9700\n",
      "Epoch 83/100\n",
      "11/11 [==============================] - 0s 8ms/step - loss: 0.2469 - accuracy: 0.8971 - val_loss: 0.1440 - val_accuracy: 0.9700\n",
      "Epoch 84/100\n",
      "11/11 [==============================] - 0s 8ms/step - loss: 0.2405 - accuracy: 0.8835 - val_loss: 0.1427 - val_accuracy: 0.9700\n",
      "Epoch 85/100\n",
      "11/11 [==============================] - 0s 8ms/step - loss: 0.2139 - accuracy: 0.9135 - val_loss: 0.1412 - val_accuracy: 0.9700\n",
      "Epoch 86/100\n",
      "11/11 [==============================] - 0s 8ms/step - loss: 0.2177 - accuracy: 0.9240 - val_loss: 0.1401 - val_accuracy: 0.9700\n",
      "Epoch 87/100\n",
      "11/11 [==============================] - 0s 8ms/step - loss: 0.1759 - accuracy: 0.9515 - val_loss: 0.1394 - val_accuracy: 0.9700\n",
      "Epoch 88/100\n",
      "11/11 [==============================] - 0s 7ms/step - loss: 0.1943 - accuracy: 0.9316 - val_loss: 0.1385 - val_accuracy: 0.9700\n",
      "Epoch 89/100\n",
      "11/11 [==============================] - 0s 8ms/step - loss: 0.1726 - accuracy: 0.9516 - val_loss: 0.1376 - val_accuracy: 0.9700\n",
      "Epoch 90/100\n",
      "11/11 [==============================] - 0s 8ms/step - loss: 0.2149 - accuracy: 0.9147 - val_loss: 0.1371 - val_accuracy: 0.9700\n",
      "Epoch 91/100\n",
      "11/11 [==============================] - 0s 8ms/step - loss: 0.2209 - accuracy: 0.9128 - val_loss: 0.1362 - val_accuracy: 0.9733\n",
      "Epoch 92/100\n",
      "11/11 [==============================] - 0s 8ms/step - loss: 0.1800 - accuracy: 0.9453 - val_loss: 0.1351 - val_accuracy: 0.9733\n",
      "Epoch 93/100\n",
      "11/11 [==============================] - 0s 8ms/step - loss: 0.2134 - accuracy: 0.9171 - val_loss: 0.1339 - val_accuracy: 0.9733\n",
      "Epoch 94/100\n",
      "11/11 [==============================] - 0s 7ms/step - loss: 0.1792 - accuracy: 0.9418 - val_loss: 0.1327 - val_accuracy: 0.9733\n",
      "Epoch 95/100\n",
      "11/11 [==============================] - 0s 8ms/step - loss: 0.1893 - accuracy: 0.9185 - val_loss: 0.1320 - val_accuracy: 0.9733\n",
      "Epoch 96/100\n",
      "11/11 [==============================] - 0s 8ms/step - loss: 0.1994 - accuracy: 0.9267 - val_loss: 0.1314 - val_accuracy: 0.9733\n",
      "Epoch 97/100\n",
      "11/11 [==============================] - 0s 7ms/step - loss: 0.2020 - accuracy: 0.9349 - val_loss: 0.1311 - val_accuracy: 0.9733\n",
      "Epoch 98/100\n",
      "11/11 [==============================] - 0s 8ms/step - loss: 0.2050 - accuracy: 0.9277 - val_loss: 0.1308 - val_accuracy: 0.9733\n",
      "Epoch 99/100\n",
      "11/11 [==============================] - 0s 7ms/step - loss: 0.2047 - accuracy: 0.9293 - val_loss: 0.1305 - val_accuracy: 0.9733\n",
      "Epoch 100/100\n",
      "11/11 [==============================] - 0s 8ms/step - loss: 0.2353 - accuracy: 0.9052 - val_loss: 0.1306 - val_accuracy: 0.9733\n"
     ]
    },
    {
     "data": {
      "text/plain": [
       "<tensorflow.python.keras.callbacks.History at 0x2930219d648>"
      ]
     },
     "execution_count": 34,
     "metadata": {},
     "output_type": "execute_result"
    }
   ],
   "source": [
    "classifier.fit(X_train, y_train, epochs=100, batch_size=64, validation_data=(X_test,y_test),)"
   ]
  },
  {
   "cell_type": "code",
   "execution_count": 35,
   "metadata": {},
   "outputs": [],
   "source": [
    "from tensorflow.keras.models import load_model"
   ]
  },
  {
   "cell_type": "code",
   "execution_count": 36,
   "metadata": {},
   "outputs": [],
   "source": [
    "classifier.save(\"advertising.h5\")"
   ]
  },
  {
   "cell_type": "code",
   "execution_count": 37,
   "metadata": {},
   "outputs": [],
   "source": [
    "losses = pd.DataFrame(classifier.history.history)"
   ]
  },
  {
   "cell_type": "code",
   "execution_count": 38,
   "metadata": {},
   "outputs": [
    {
     "data": {
      "text/plain": [
       "<AxesSubplot:>"
      ]
     },
     "execution_count": 38,
     "metadata": {},
     "output_type": "execute_result"
    },
    {
     "data": {
      "image/png": "[encoded data removed]",
      "text/plain": [
       "<Figure size 432x288 with 1 Axes>"
      ]
     },
     "metadata": {
      "needs_background": "light"
     },
     "output_type": "display_data"
    }
   ],
   "source": [
    "losses[['loss','val_loss']].plot()"
   ]
  },
  {
   "cell_type": "code",
   "execution_count": 39,
   "metadata": {},
   "outputs": [],
   "source": [
    "#Predicting the test set results\n",
    "y_pred = classifier.predict(X_test)\n",
    "y_pred = (y_pred> 0.5)\n",
    "\n"
   ]
  },
  {
   "cell_type": "code",
   "execution_count": 40,
   "metadata": {},
   "outputs": [
    {
     "name": "stdout",
     "output_type": "stream",
     "text": [
      "Accuracy is: 97.33333333333334\n",
      "\n",
      "classification report is:               precision    recall  f1-score   support\n",
      "\n",
      "           0       0.97      0.98      0.98       164\n",
      "           1       0.98      0.96      0.97       136\n",
      "\n",
      "    accuracy                           0.97       300\n",
      "   macro avg       0.97      0.97      0.97       300\n",
      "weighted avg       0.97      0.97      0.97       300\n",
      "\n"
     ]
    }
   ],
   "source": [
    "# Making confusion Matrix\n",
    "from sklearn.metrics import confusion_matrix, classification_report\n",
    "from sklearn.metrics import accuracy_score\n",
    "\n",
    "cm = confusion_matrix(y_test,y_pred )\n",
    "accurayscore = accuracy_score(y_pred,y_test)\n",
    "print('Accuracy is:', accurayscore*100)\n",
    "print('\\nclassification report is:', classification_report(y_test,y_pred ))"
   ]
  },
  {
   "cell_type": "code",
   "execution_count": 41,
   "metadata": {},
   "outputs": [
    {
     "name": "stdout",
     "output_type": "stream",
     "text": [
      "Confusion Matrix\n",
      " [[161   3]\n",
      " [  5 131]]\n"
     ]
    }
   ],
   "source": [
    "print(\"Confusion Matrix\\n\",cm)"
   ]
  },
  {
   "cell_type": "code",
   "execution_count": 42,
   "metadata": {},
   "outputs": [
    {
     "data": {
      "image/png": "[encoded data removed]",
      "text/plain": [
       "<Figure size 432x288 with 2 Axes>"
      ]
     },
     "metadata": {
      "needs_background": "light"
     },
     "output_type": "display_data"
    }
   ],
   "source": [
    "\n",
    "sns.heatmap(cm, annot=True)\n",
    "plt.savefig('heatmap.png')"
   ]
  },
  {
   "cell_type": "code",
   "execution_count": null,
   "metadata": {},
   "outputs": [],
   "source": []
  },
  {
   "cell_type": "code",
   "execution_count": null,
   "metadata": {},
   "outputs": [],
   "source": []
  }
 ],
 "metadata": {
  "kernelspec": {
   "display_name": "Python 3",
   "language": "python",
   "name": "python3"
  },
  "language_info": {
   "codemirror_mode": {
    "name": "ipython",
    "version": 3
   },
   "file_extension": ".py",
   "mimetype": "text/x-python",
   "name": "python",
   "nbconvert_exporter": "python",
   "pygments_lexer": "ipython3",
   "version": "3.7.6"
  }
 },
 "nbformat": 4,
 "nbformat_minor": 4
}
